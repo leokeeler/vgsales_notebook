{
 "cells": [
  {
   "cell_type": "code",
   "execution_count": null,
   "metadata": {},
   "outputs": [],
   "source": [
    "import matplotlib.pyplot as plt          #importing some packages\n",
    "import numpy as np\n",
    "import pandas as pd\n",
    "import seaborn as sns\n",
    "\n",
    "vgsales=pd.read_csv('Datasets/vgsales.csv', index_col=0)     #read in the csv\n",
    "print(vgsales.head()) #We'll get a preliminary look at the data"
   ]
  },
  {
   "cell_type": "markdown",
   "metadata": {},
   "source": [
    "Wii Sports is more than double in global sales than the next highest entry.\n",
    "Fun fact, this is due to the fact that Wii Sports came with almost every Wii sold and the Wii is one of the greatest selling \n",
    "game consoles of all time, beat out only by the Playstation and Playstation 2 (not counting handhelds).So with that advantage \n",
    "over the other games, I consider Wii Sports an anomaly and will remove it."
   ]
  },
  {
   "cell_type": "code",
   "execution_count": null,
   "metadata": {},
   "outputs": [],
   "source": [
    "vgsales=vgsales[1:] #Remove the first entry of the zero-indexed DataFrame.\n",
    "#Conveniently this data is ordered from highest global sales to lowest global sales.\n",
    "print(vgsales.head())\n",
    "print(vgsales.tail())"
   ]
  },
  {
   "cell_type": "markdown",
   "metadata": {},
   "source": [
    "With the anomaly removed, lets get a first look at how the data are distributed. A histogram is a good way to get a quick look\n",
    "at the dataset's distribution."
   ]
  },
  {
   "cell_type": "code",
   "execution_count": null,
   "metadata": {},
   "outputs": [],
   "source": [
    "_=plt.hist(vgsales['Global_Sales'])\n",
    "_=plt.xlabel('Global Sales')\n",
    "_=plt.ylabel('Number of Games')\n",
    "plt.show()"
   ]
  },
  {
   "cell_type": "markdown",
   "metadata": {},
   "source": [
    "Most games on this list sold less than 5 million copies. It may be more interesting to view the data for the more successful games. Let's look at median sales in this DF to see what we can count as successful. With all these data points an ECDF may be more appropriate to show our data's  distribution rather than a swarm plot or scatter plot. Histogram's also suffer from binning bias. An ECDF will show us each point is a nicely visible manner."
   ]
  },
  {
   "cell_type": "code",
   "execution_count": null,
   "metadata": {},
   "outputs": [],
   "source": [
    "def ecdf(series):\n",
    "    \"\"\"Compute ECDF for a series of data\"\"\"\n",
    "    points=len(series)\n",
    "    x=np.sort(series)\n",
    "    y=np.arange(1.0, points+1.0) / points\n",
    "    return x, y\n",
    "#This function generates x and y values which we can then plot to get our ECDF\n",
    "x_global, y_global=ecdf(vgsales['Global_Sales'])\n",
    "_=plt.plot(x_global, y_global, marker='.', linestyle='none')\n",
    "_=plt.xlabel('Global Sales (Million)')\n",
    "_=plt.ylabel('ECDF')\n",
    "plt.show()"
   ]
  },
  {
   "cell_type": "markdown",
   "metadata": {},
   "source": [
    "The sales are extremely bottom heavy, with more than 80% of the data with less than 2.5 million sales. From this graph, we are presented with an idea for a hypothesis test. Let's see which genres of games have the greatest probability of being \"successful\". We can separate each genre into a separate DF then view their respective ECDFs to see how bottom-heavy each is. Then we can perform a hypothesis test once we decide our criteria for success in sales."
   ]
  },
  {
   "cell_type": "code",
   "execution_count": null,
   "metadata": {},
   "outputs": [],
   "source": [
    "genre_names=vgsales['Genre'].unique().tolist() #Get a list of genres for keys for our dictionary.\n",
    "genre_dict={name: vgsales.loc[vgsales['Genre']==name] for name in genre_names}  #Loop to create our dictionary of \n",
    "#genre-separated DFs\n",
    "print(genre_dict['Action'].info()) #Making sure it worked.\n",
    "#Now let's make a loop to create an ECDF for each genre DF.\n",
    "for name in genre_dict:\n",
    "    x_genre, y_genre=ecdf(genre_dict[name]['Global_Sales'])\n",
    "    _=plt.plot(x_genre, y_genre, marker='.', linestyle='none')\n",
    "    _=plt.xlabel(name + ' Genre Global Sales (Million)')\n",
    "    _=plt.ylabel('ECDF')\n",
    "    plt.show()"
   ]
  },
  {
   "cell_type": "markdown",
   "metadata": {},
   "source": [
    "At first look, the genres Shooter, Fighting, and Strategy seem to have less steep slopes on their ECDFs than the others. However, we must pay close attention to the x-axis of these plots. The Strategy genre has its first tick at 2mil and the Strategy genre has its first tick at 1mil; so even though the shape of these genres' ECDFs look less steep, they likely have a similar percentage of entries beneath our marker of success to the other genres. Let's take 1 million to be our marker of success."
   ]
  },
  {
   "cell_type": "code",
   "execution_count": null,
   "metadata": {},
   "outputs": [],
   "source": [
    "def over_1mil(series):\n",
    "    \"\"\"Calculates the percentage of values over 1 million in a series where \n",
    "    values are in millions\"\"\"\n",
    "    return float(len(series[series >= 1.000]))/float(len(series))*100.000\n",
    "print(over_1mil(genre_dict['Action']['Global_Sales']))#Testing. It works!\n",
    "#Let's loop through each genre and get a list of their over 1mil percentages\n",
    "for name in genre_dict:\n",
    "    percentage=over_1mil(genre_dict[name]['Global_Sales'])\n",
    "    print(name + \": \" + str(round(percentage, 2)) + \"% of games sold over 1mil\"\n",
    "    + \"copies out of \" + str(len(genre_dict[name])) + \" total games\")"
   ]
  },
  {
   "cell_type": "markdown",
   "metadata": {},
   "source": [
    "It may be interesting to see if there is a correlation between the number of games in a genre and the percentage that sell over 1 million. To the plots!"
   ]
  },
  {
   "cell_type": "code",
   "execution_count": null,
   "metadata": {},
   "outputs": [],
   "source": [
    "for name in genre_dict:\n",
    "    x_perc=over_1mil(genre_dict[name]['Global_Sales'])\n",
    "    y_games=len(genre_dict[name])\n",
    "    _=plt.plot(x_perc, y_games, marker='.', linestyle='none')\n",
    "_=plt.xlabel('Percentage of Games with Sales over 1 Million')\n",
    "_=plt.ylabel('Number of Games in Genre')\n",
    "plt.show()"
   ]
  },
  {
   "cell_type": "markdown",
   "metadata": {},
   "source": [
    "No correlation between number of games in a genre and the percentage of games that sell over 1 million is apparent from the plots.\n",
    "However, looking at the previous statements created, shooting, platforming, and fighting games are shown to be the safest genre, or, the most likely of the genres to sell over 1 million copies. Next, let's do some hypothesis testing to see how often these genres come out on top in a large number of trials testing the percentage of games that sold over 1mil with the bootstrapping method. This involves selecting an equal number of data points within each genre from the existing data points. When the first data point is randomly selected, whichever point is selected in then replaced within the dataset we are sampling from. We are sampling with replacement. This new sampled dataset is called a bootstrap sample.\n",
    "First we define our bootstrap replicate function to create each individual replicate. In this case, each replicate is the percentage value from our over_1mil() function."
   ]
  },
  {
   "cell_type": "code",
   "execution_count": null,
   "metadata": {},
   "outputs": [],
   "source": [
    "def bootstrap_rep(series, func):\n",
    "    \"\"\"Generate bootstrap replicate of a series\"\"\"\n",
    "    bs_sample=np.random.choice(series, len(series)) #This creates a bootstrap sample.\n",
    "    return(func(bs_sample)) #We use the bootstrap sample to generate our desired summary statistic, which creates the \n",
    "    #bootstrap replicate.\n",
    "print(bootstrap_rep(genre_dict['Action']['Global_Sales'], over_1mil)) #it worked!"
   ]
  },
  {
   "cell_type": "markdown",
   "metadata": {},
   "source": [
    "Now that we have made a bootstrap replicate, we will do many trials and see how each genre is distributed with many replicates."
   ]
  },
  {
   "cell_type": "code",
   "execution_count": null,
   "metadata": {},
   "outputs": [],
   "source": [
    "bs_replicates=np.empty(10000) #Create an empty array to store our bootstrap replicates.\n",
    "bs_rep_dict={name: np.empty(10000) for name in genre_names} #Create a new dictionary to store the bs reps for each genre.\n",
    "for name in genre_dict: #Loop through each genre.\n",
    "    for i in range(10000): #and generate 10,000 bootstrap replicates.\n",
    "        bs_rep_dict[name][i]=bootstrap_rep(genre_dict[name]['Global_Sales'], over_1mil)\n",
    "print(bs_rep_dict) #it worked!"
   ]
  },
  {
   "cell_type": "markdown",
   "metadata": {},
   "source": [
    "Let's take a look at the distributions for each genre. Then we can move on to ranking the top three safest genres for each replicate iteration and see which genres have the highest likelihood of success in sales."
   ]
  },
  {
   "cell_type": "code",
   "execution_count": null,
   "metadata": {},
   "outputs": [],
   "source": [
    "legend_labels=[]\n",
    "for name in bs_rep_dict:\n",
    "    x_bs_rep, y_bs_rep=ecdf(bs_rep_dict[name])\n",
    "    _=plt.plot(x_bs_rep, y_bs_rep, marker='.', linestyle='none')\n",
    "    legend_labels.append(name)\n",
    "    _=plt.xlabel('Percentage of Games with Sales over 1 Million')\n",
    "    _=plt.ylabel('ECDF')\n",
    "    _=plt.legend(legend_labels)\n",
    "plt.show()"
   ]
  },
  {
   "cell_type": "markdown",
   "metadata": {},
   "source": [
    "The ECDF provides some insights but something easier to digest and look at is a confidence interval. This describes a range of values of which there is a specified probability of a parameter having a value within the range. Let's calculate the 95% confidence interval (the range for which the genre is 95% likely to have an over 1 million sold percentage parameter for) for each genre."
   ]
  },
  {
   "cell_type": "code",
   "execution_count": null,
   "metadata": {},
   "outputs": [],
   "source": [
    "percentile_dict={name: name for name in genre_names}\n",
    "for name in bs_rep_dict:\n",
    "    percentile_dict[name]=np.percentile(bs_rep_dict[name], [2.5, 97.5])\n",
    "for name in percentile_dict:\n",
    "    print(str(name)+\": \"+str(percentile_dict[name]))"
   ]
  },
  {
   "cell_type": "markdown",
   "metadata": {},
   "source": [
    "From this it is plain to see that Platform and then Shooter games will almost always be the safest two (Shooter, with the second highest lower end on its 95% interval, has no other genre besides Platform with an upper end of its respective 95% interval greater than its lower end value).\n",
    "Let us confirm this with a hypothesis test. We will take each indice from every genre and compare them and see which genre has the highest percentagefor each iteration. We will have 10,000 winners, of which I set forth the hypothesis that 95% or greater will be Shooter or Platform."
   ]
  },
  {
   "cell_type": "code",
   "execution_count": null,
   "metadata": {},
   "outputs": [],
   "source": [
    "#First we will set up our winner list:\n",
    "bs_highest_percentage=[]\n",
    "#and second and third highest percentages:\n",
    "second_highest_percentage=[]\n",
    "third_highest_percentage=[]\n",
    "for i in range(10000): #Loop through each iteration in our bootstrapping.\n",
    "    #For this loop we create another dictionary to store the bs replicate percentage value for each iteration in our \n",
    "    #10,000 trials. Then we pull thekey (genre) from the max value in the iteration. Then we delete the key:value pair \n",
    "    #with that max value and obtain the key from the new max value,giving us the key corresponding to the second highest \n",
    "    #percent value. We repeat this process to obtain the third highest value.\n",
    "    bs_max={name: bs_rep_dict[name][i] for name in genre_names}\n",
    "    bs_highest_percentage.append(max(bs_max, key=bs_max.get))\n",
    "    bs_max.pop(bs_highest_percentage[i])\n",
    "    second_highest_percentage.append(max(bs_max, key=bs_max.get))\n",
    "    bs_max.pop(second_highest_percentage[i])\n",
    "    third_highest_percentage.append(max(bs_max, key=bs_max.get))\n",
    "print(set(bs_highest_percentage))\n",
    "print(set(second_highest_percentage))\n",
    "print(set(third_highest_percentage))"
   ]
  },
  {
   "cell_type": "markdown",
   "metadata": {},
   "source": [
    "Through 10,000 trials only the genres Platform and Shooter had the highest percentage of games sold over 1 million.\n",
    "\n",
    "Below is a different method I came up with to get the top 3 positions in our 10,000 trials:\n",
    "\n",
    "\"\"\"for i in range(10000): #Loop through each iteration in our bootstrapping\n",
    "    bs_max={name: bs_rep_dict[name][i] for name in genre_names}\n",
    "    bs_max_list=list(bs_max.values())\n",
    "    bs_max_list.sort(reverse=True)\n",
    "    for genre in bs_max:\n",
    "        if bs_max[genre]=bs_max_list[0]:\n",
    "            bs_highest_percentage.append(bs_max, key=bs_max.get)\n",
    "        if bs_max[genre]=bs_max_list[1]:\n",
    "            second_highest_percentage.append(bs_max, key=bs_max.get)\n",
    "        if bs_max[genre]=bs_max_list[2]:\n",
    "            third_highest_percentage.append(bs_max, key=bs_max.get)\"\"\"\n",
    "            \n",
    "Now we will count the occurrences of each genre in each placing."
   ]
  },
  {
   "cell_type": "code",
   "execution_count": null,
   "metadata": {},
   "outputs": [],
   "source": [
    "df_dict={\"1st\":bs_highest_percentage, \"2nd\":second_highest_percentage, \"3rd\":third_highest_percentage}\n",
    "percentage_placing_df=pd.DataFrame(df_dict)\n",
    "print(percentage_placing_df.info())\n",
    "#Now lets see how many of each entry was generated in each column.\n",
    "first = percentage_placing_df['1st'].value_counts()\n",
    "second = percentage_placing_df['2nd'].value_counts()\n",
    "third = percentage_placing_df['3rd'].value_counts()\n",
    "print(first)\n",
    "print(second)\n",
    "print(third)"
   ]
  },
  {
   "cell_type": "markdown",
   "metadata": {},
   "source": [
    "As hypothesized, the first placing in our trials went to Platform games ~95% of the time, with Shooter games taking the top spot the remaining ~5% and also dominates the second place ranking. No other genre got the first placing even 1 time in our 10,000 trials! Fighting and Racing games are pretty evenly represented in the third highest rank and had a small number of second place rankings each.\n",
    "Let's plot and get a better visual feel for the results."
   ]
  },
  {
   "cell_type": "code",
   "execution_count": null,
   "metadata": {},
   "outputs": [],
   "source": [
    "sns.barplot(first.index, first.values)\n",
    "plt.title('First Placing of Highest Percentage of Games Sold Over 1 Million '+\n",
    "          'in 10,000 Trials')\n",
    "plt.ylabel('Number of Occurrences', fontsize=12)\n",
    "plt.xlabel('Genre', fontsize=12)\n",
    "plt.show()\n",
    "sns.barplot(second.index, second.values)\n",
    "plt.title('Second Placing of Highest Percentage of Games Sold Over 1 Million '+\n",
    "          'in 10,000 Trials')\n",
    "plt.ylabel('Number of Occurrences', fontsize=12)\n",
    "plt.xlabel('Genre', fontsize=12) \n",
    "plt.show()\n",
    "sns.barplot(third.index, third.values)\n",
    "plt.title('Third Placing of Highest Percentage of Games Sold Over 1 Million '+\n",
    "          'in 10,000 Trials')\n",
    "plt.ylabel('Number of Occurrences', fontsize=12)\n",
    "plt.xlabel('Genre', fontsize=12)\n",
    "plt.show()  "
   ]
  },
  {
   "cell_type": "markdown",
   "metadata": {},
   "source": [
    "The plot reconfirms Platform games as the obvious choice for safest game to develop (if the goal is to sell over 1 million copies). Shooter games are a clear second safest choice with Fighting games followed closely by Racing games as the next two safest choices.\n",
    "This concludes our analysis of safest games to produce by genre within the vgsales csv file.\n"
   ]
  }
 ],
 "metadata": {
  "kernelspec": {
   "display_name": "Python 2",
   "language": "python",
   "name": "python2"
  },
  "language_info": {
   "codemirror_mode": {
    "name": "ipython",
    "version": 2
   },
   "file_extension": ".py",
   "mimetype": "text/x-python",
   "name": "python",
   "nbconvert_exporter": "python",
   "pygments_lexer": "ipython2",
   "version": "2.7.16"
  }
 },
 "nbformat": 4,
 "nbformat_minor": 2
}
